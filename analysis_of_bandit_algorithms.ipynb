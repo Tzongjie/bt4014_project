{
 "cells": [
  {
   "cell_type": "markdown",
   "metadata": {},
   "source": [
    "# Analysis of Bandit Algorithms "
   ]
  },
  {
   "cell_type": "markdown",
   "metadata": {},
   "source": [
    "Applies all the bandit algorithms learnt in class on simulated and real-life datasets. Algorithms will be ran will various hyperparamters and performance for each application will be evaluated."
   ]
  },
  {
   "cell_type": "markdown",
   "metadata": {},
   "source": [
    "**Algorithms included:**\n",
    "1. Epsilon-Greedy\n",
    "2. Annealing Epsilon-Greedy (Epsilon Decay)\n",
    "3. Softmax\n",
    "4. Annealing Softmax\n",
    "5. Bayesian UCB\n",
    "6. UCB1\n",
    "7. Thompson Sampling\n",
    "\n",
    "**Types of bandit Arms included:**\n",
    "1. Binomial Arms\n",
    "2. Guassian Arms\n",
    "\n",
    "**Hyperparameters to be tuned:**\n",
    "1. Epsilon\n",
    "2. Tau\n",
    "3. Number of Arms "
   ]
  },
  {
   "cell_type": "markdown",
   "metadata": {},
   "source": [
    "## Algorithms"
   ]
  }
 ],
 "metadata": {
  "kernelspec": {
   "display_name": "Python 3",
   "language": "python",
   "name": "python3"
  },
  "language_info": {
   "codemirror_mode": {
    "name": "ipython",
    "version": 3
   },
   "file_extension": ".py",
   "mimetype": "text/x-python",
   "name": "python",
   "nbconvert_exporter": "python",
   "pygments_lexer": "ipython3",
   "version": "3.7.3"
  }
 },
 "nbformat": 4,
 "nbformat_minor": 2
}
